{
 "cells": [
  {
   "cell_type": "code",
   "execution_count": 29,
   "metadata": {},
   "outputs": [],
   "source": [
    "import requests\n",
    "import re\n",
    "from bs4 import BeautifulSoup\n",
    "import json\n",
    "import pandas as pd\n",
    "import time\n",
    "import os\n",
    "import urllib.parse\n",
    "import math\n",
    "from datetime import datetime\n",
    "from dotenv import load_dotenv\n",
    "import pymssql\n",
    "import argparse"
   ]
  },
  {
   "cell_type": "code",
   "execution_count": 30,
   "metadata": {},
   "outputs": [],
   "source": [
    "# Get the list of Job URLs from the url page in the list_jobs_URL_of_each_category.json\n",
    "def get_job_atrributes(url):\n",
    "\n",
    "    soup=BeautifulSoup(requests.get(url).content, 'html.parser')\n",
    "\n",
    "    # Get the seo_url through class=\"JobSearchCard-primary-heading\" html\n",
    "    anchor_tag = soup.find_all('a', class_='JobSearchCard-primary-heading-link')\n",
    "\n",
    "    # Get the 'href' attribute\n",
    "    href_list = [tag['href'] for tag in anchor_tag]\n",
    "\n",
    "    return href_list\n",
    "def get_seo_url_json_list_jobs(list_url):\n",
    "    contests_seo_urls=[]\n",
    "    projects_seo_urls=[]\n",
    "    for url in list_url:\n",
    "        \n",
    "        seo_urls=get_job_atrributes(url)\n",
    "        for seo_url in seo_urls:\n",
    "            \n",
    "            #If have 'contest' in url, append to contest list\n",
    "            if seo_url[0:9]=='/contest/':\n",
    "                contests_seo_urls.append(seo_url)\n",
    "            else :\n",
    "                projects_seo_urls.append(seo_url)\n",
    "                \n",
    "    #Remove \"/projects/\" in url\n",
    "    projects_seo_urls=[url.replace(\"/projects/\",\"\") for url in projects_seo_urls]\n",
    "    \n",
    "    #Apply regex to get the contest id contain 7 digits\n",
    "    contests_id=[re.search(r'\\d{7}',url).group(0) for url in contests_seo_urls]\n",
    "    \n",
    "    return projects_seo_urls, contests_id"
   ]
  },
  {
   "cell_type": "code",
   "execution_count": 52,
   "metadata": {},
   "outputs": [
    {
     "data": {
      "text/plain": [
       "['wpf/wpf-program-for-zoom-integration',\n",
       " 'mvc/agora-token-into-mvc-net',\n",
       " 'asp-net/user-centric-admin-dashboard-for-38827523',\n",
       " 'c-sharp-programming/nunit-integration-tests-for-software',\n",
       " 'c-sharp-programming/modifying-interactive-brokers-tws-api',\n",
       " 'c-sharp-programming/mid-level-net-framework-developer',\n",
       " 'c-sharp-programming/asp-net-core-contact-page',\n",
       " 'php/plugin-for-website-38826803',\n",
       " 'php/website-plugin-38826787',\n",
       " 'dot-net/supermap-desktop-application-developer',\n",
       " 'dot-net/build-microservice-using-net',\n",
       " 'banner-design/wix-website-updation-correction',\n",
       " 'dot-net/integration-sap-ksa-invoicing-phase',\n",
       " 'php/workshop-software-for-small-garage',\n",
       " 'dot-net/interactive-brokers-tws-api-demo',\n",
       " 'sharepoint/automate-sharepoint-list-monitoring-with',\n",
       " 'php/comprehensive-accounting-warehouse',\n",
       " 'dot-net/week-work-done-38819950',\n",
       " 'dot-net/week-work-done',\n",
       " 'sharepoint/power-automate-auto-fill-pdf',\n",
       " 'software-architecture/windows-based-pos-system-with',\n",
       " 'c-sharp-programming/net-core-authentication-solution-poc',\n",
       " 'javascript/web-based-dicom-viewer-with',\n",
       " 'dot-net/solution-architect-net',\n",
       " 'dot-net/core-net-developer-for-api',\n",
       " 'c-sharp-programming/dll-for-interactive-html-form',\n",
       " 'asp-net/user-centric-admin-dashboard-for',\n",
       " 'c-sharp-programming/core-net-developer-for-api',\n",
       " 'c-sharp-programming/popup-caller-app-development',\n",
       " 'angular-js/looking-for-net-core-developer-38816509',\n",
       " 'sharepoint/power-automate-expert-for-sharepoint',\n",
       " 'dot-net/enhancement-for-lims-stability-software',\n",
       " 'html/video-scraping-python-automation',\n",
       " 'c-sharp-programming/interactive-brokers-tws-api-demo',\n",
       " 'c-sharp-programming/asp-web-application-development',\n",
       " 'sharepoint/automated-email-dispatch-from-sharepoint',\n",
       " 'asp-net/unit-test-development-for-net',\n",
       " 'php/api-development-for-whatsapp-integration',\n",
       " 'php/project-for-alicenta-38813871',\n",
       " 'vb-net/net-whatsapp-messaging-module',\n",
       " 'c-sharp-programming/net-blazor-developer-for-customer',\n",
       " 'php/fixing-bsods',\n",
       " '/login?goto=MWM1YThkYjJhNTg4M2I5NTdmOTQyMTY4OTY4Y2Y4YjdodHRwczovL3d3dy5mcmVlbGFuY2VyLmNvbS9wcm9qZWN0cy93ZWItc2NyYXBpbmcvZWJheS1saXN0LXZpYS1hcGktcHJvamVjdA,,',\n",
       " 'vb-net/high-volume-data-reporting-net',\n",
       " 'dot-net/documentation-for-the-mobile-application',\n",
       " 'software-architecture/quickbooks-api-integration-expert-needed',\n",
       " 'c-sharp-programming/software-application',\n",
       " 'web-scraping/web-data-scraping-with-blazor',\n",
       " 'dot-net/deploy-web-application-azure-server-38811670',\n",
       " 'windows-server/windows-server-data-control-user']"
      ]
     },
     "execution_count": 52,
     "metadata": {},
     "output_type": "execute_result"
    }
   ],
   "source": [
    "url=\"https://www.freelancer.com/jobs/dot-net/103/?status=all\"\n",
    "projects_seo_urls, contests_i=\\\n",
    "        get_seo_url_json_list_jobs([url])\n",
    "projects_seo_urls"
   ]
  },
  {
   "cell_type": "code",
   "execution_count": 35,
   "metadata": {},
   "outputs": [
    {
     "data": {
      "text/plain": [
       "['2489555', '2489547', '2489543', '2489542', '2489541']"
      ]
     },
     "execution_count": 35,
     "metadata": {},
     "output_type": "execute_result"
    }
   ],
   "source": [
    "contests_i"
   ]
  },
  {
   "cell_type": "code",
   "execution_count": 2,
   "metadata": {},
   "outputs": [],
   "source": [
    "from dotenv import load_dotenv\n",
    "import os\n",
    "import pymssql"
   ]
  },
  {
   "cell_type": "code",
   "execution_count": 6,
   "metadata": {},
   "outputs": [],
   "source": [
    "def connect_to_db():\n",
    "    load_dotenv()\n",
    "    hostname=os.getenv(\"HOSTNAME\")\n",
    "    database=os.getenv(\"DATABASE\")\n",
    "    username=os.getenv(\"USERNAME\")\n",
    "    password=os.getenv(\"PASSWORD\")\n",
    "    print(hostname, database, username, password)\n",
    "    try :\n",
    "        conn=pymssql.connect(hostname, username, password, database)\n",
    "    except:\n",
    "        raise Exception(\"Connection failed!\")\n",
    "    return conn"
   ]
  },
  {
   "cell_type": "code",
   "execution_count": 7,
   "metadata": {},
   "outputs": [
    {
     "name": "stdout",
     "output_type": "stream",
     "text": [
      "teamaidaserver.database.windows.net aida_db minhtri a123456789B\n"
     ]
    }
   ],
   "source": [
    "conn=connect_to_db()"
   ]
  }
 ],
 "metadata": {
  "kernelspec": {
   "display_name": "base",
   "language": "python",
   "name": "python3"
  },
  "language_info": {
   "codemirror_mode": {
    "name": "ipython",
    "version": 3
   },
   "file_extension": ".py",
   "mimetype": "text/x-python",
   "name": "python",
   "nbconvert_exporter": "python",
   "pygments_lexer": "ipython3",
   "version": "3.11.5"
  }
 },
 "nbformat": 4,
 "nbformat_minor": 2
}
